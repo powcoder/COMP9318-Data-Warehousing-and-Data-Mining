{
 "cells": [
  {
   "cell_type": "markdown",
   "metadata": {},
   "source": [
    "# COMP9318-Lab5"
   ]
  },
  {
   "cell_type": "markdown",
   "metadata": {},
   "source": [
    "## Instructions\n",
    "1. This note book contains instructions for **COMP9318-lab5**.\n",
    "\n",
    "* You are required to complete your implementation in a file `submission.py` provided along with this notebook.\n",
    "\n",
    "* You are not allowed to print out unnecessary stuff. We will not consider any output printed out on the screen. All results should be returned in appropriate data structures via corresponding functions.\n",
    "\n",
    "* You can submit your implementation for **lab5** via following link: http://kg.cse.unsw.edu.au:8318/lab5/ .\n",
    "\n",
    "* For each question, we have provided you with detailed instructions along with question headings. In case of any problem, you can post your query **@ Piazza.**\n",
    "\n",
    "* You are allowed to add other functions and/or import modules (you may have to in this lab), but you are not allowed to define global variables. **Only functions are allowed** in `submission.py`. \n",
    "\n",
    "* You should not import unnecessary modules/libraries, failing to import such modules at test time will lead to errors.\n",
    "\n",
    "* We will provide immediate feedback on your submission. You can access your scores using the online submission portal on the same day. \n",
    "\n",
    "* For **Final Evaluation** we will be using a different dataset, so your final scores may vary.  \n",
    "\n",
    "* You are allowed to submit as many times as you want before the deadline, but **ONLY the latest version will be kept and marked**.\n",
    "\n",
    "* Submission deadline for this assignment is **23:59:59 on 10th June, 2018**. We will **not** accept any late submissions."
   ]
  },
  {
   "cell_type": "markdown",
   "metadata": {},
   "source": [
    "# Question-1: Spectral Clustering...\n",
    "\n",
    "* In this lab you are required to implement the spectral clustering algorithm to cluster a given graph **G** into **TWO** clusters.\n"
   ]
  },
  {
   "cell_type": "code",
   "execution_count": 1,
   "metadata": {},
   "outputs": [
    {
     "data": {
      "image/png": "[encoded data removed]",
      "text/plain": [
       "<matplotlib.figure.Figure at 0x7f03cafb30b8>"
      ]
     },
     "metadata": {},
     "output_type": "display_data"
    }
   ],
   "source": [
    "import numpy as np\n",
    "import matplotlib.pyplot as plt\n",
    "%matplotlib inline\n",
    "import networkx as nx\n",
    "\n",
    "# Reading edges in a Graph...\n",
    "data_file='./asset/a'\n",
    "with open(data_file) as infile:\n",
    "    edges = [tuple(map(int,(line.strip().split(' ')))) for line in infile]\n",
    "\n",
    "    \n",
    "# Creating a new Graph...\n",
    "G = nx.Graph(name=\"Ex1\")    \n",
    "for edge in edges:\n",
    "    G.add_edge(*edge)\n",
    "\n",
    "# You can visualize the Graph for your own understanding...\n",
    "nx.draw_networkx(G, with_labels=True, node_color='y')\n",
    "plt.show()"
   ]
  },
  {
   "cell_type": "markdown",
   "metadata": {},
   "source": [
    "You need to **implement** spectral clustering algorithm (i.e., `spectral_clustering()` in the file: `submission.py`). The input arguments of `spectral_clustering()` are:\n",
    "\n",
    "**Input:**\n",
    "* `G`: A graph as defined above\n",
    "\n",
    "**Output:**\n",
    "1. `eigenvectors`, i.e., a numpy matrix containing two eigenvectors starting with the second smallest eigenvector. Its dimensions should be (N,2), where N stands for number of nodes in the graph.\n",
    "* `clusters`, i.e., lists of sub-lists containing the NODE-IDs corresponding to two clusters.\n",
    "\n",
    "For example, a sample output is shown in the cell given below:"
   ]
  },
  {
   "cell_type": "code",
   "execution_count": 2,
   "metadata": {},
   "outputs": [
    {
     "name": "stdout",
     "output_type": "stream",
     "text": [
      "[[-0.50495006 -0.07917647]\n",
      " [-0.50495006 -0.07917647]\n",
      " [-0.32789765  0.05021194]\n",
      " [ 0.14117906  0.22693353]\n",
      " [ 0.29532479 -0.25362181]\n",
      " [ 0.28773764  0.03212914]\n",
      " [ 0.26004936  0.70816516]\n",
      " [ 0.3535069  -0.60546503]]\n",
      "(8, 2)\n",
      "<class 'numpy.matrixlib.defmatrix.matrix'>\n",
      "clusters =  [[6, 5, 7, 9, 8], [2, 3, 4]]\n"
     ]
    }
   ],
   "source": [
    "import submission as submission\n",
    "\n",
    "# Reading edges in a Graph...\n",
    "data_file='./asset/a'\n",
    "with open(data_file) as infile:\n",
    "    edges = [tuple(map(int,(line.strip().split(' ')))) for line in infile]\n",
    "    \n",
    "# Creating a new Graph...\n",
    "G = nx.Graph(name=\"Ex1\")    \n",
    "for edge in edges:\n",
    "    G.add_edge(*edge)\n",
    "\n",
    "    \n",
    "\n",
    "eigenvector, clusters =submission.spectral_clustering(G)\n",
    "print(eigenvector)\n",
    "print(eigenvector.shape)\n",
    "print(type(eigenvector))\n",
    "print('clusters = ',clusters)"
   ]
  },
  {
   "cell_type": "markdown",
   "metadata": {},
   "source": [
    "* ** Note:** \n",
    "* **For this lab we will be using Un-normalized Graph Laplacian.**\n",
    "* **For k-means clustering you should use nltk with Euclidean distance.**\n",
    "* **Please use the following nltk commands to generate clusters from the eigenvectors**\n",
    "\n",
    "    1.    kmeans_ = KMeansClusterer(num_means=2, distance=nltk.cluster.util.euclidean_distance, repeats=50, normalise=True,rng=random.Random(10))\n",
    "    2.    clusters = kmeans_.cluster(eigenvectors, assign_clusters=True)"
   ]
  },
  {
   "cell_type": "markdown",
   "metadata": {},
   "source": [
    "# Submission\n",
    "\n",
    "You need to complete the function `spectral_clustering()` in the file: `submission.py`. You can test your submission against sample test cases via online submission system (i.e., http://kg.cse.unsw.edu.au:8318/lab5/).\n",
    "\n",
    "\n",
    "# Test Environment\n",
    "\n",
    "For testing, we have pre-installed the requisite modules and/or libraries in the testing environment. You are only allowed to use following libraries:\n",
    "\n",
    "* python: 3.5.2\n",
    "* numpy: 1.14.0\n",
    "* networkx: 2.1\n",
    "* nltk: 3.2.5\n",
    "\n",
    "**Note:**\n",
    "\n",
    "    1. You need to implement the methodology by yourself. You are not allowed to import **sklearn** and/or any other library in Lab5.\n",
    "    2. For cluster labels you should use the priorly provided commands (given in last cell) to generate the clusters."
   ]
  },
  {
   "cell_type": "code",
   "execution_count": null,
   "metadata": {
    "collapsed": true
   },
   "outputs": [],
   "source": []
  }
 ],
 "metadata": {
  "kernelspec": {
   "display_name": "Python 3",
   "language": "python",
   "name": "python3"
  },
  "language_info": {
   "codemirror_mode": {
    "name": "ipython",
    "version": 3
   },
   "file_extension": ".py",
   "mimetype": "text/x-python",
   "name": "python",
   "nbconvert_exporter": "python",
   "pygments_lexer": "ipython3",
   "version": "3.6.1"
  }
 },
 "nbformat": 4,
 "nbformat_minor": 2
}
